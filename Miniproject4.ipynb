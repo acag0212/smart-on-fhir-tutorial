{
  "nbformat": 4,
  "nbformat_minor": 0,
  "metadata": {
    "colab": {
      "name": "Miniproject4.ipynb",
      "provenance": [],
      "collapsed_sections": [],
      "authorship_tag": "ABX9TyMUTQ55ADy+1Obem7We7GTO",
      "include_colab_link": true
    },
    "kernelspec": {
      "name": "python3",
      "display_name": "Python 3"
    },
    "language_info": {
      "name": "python"
    }
  },
  "cells": [
    {
      "cell_type": "markdown",
      "metadata": {
        "id": "view-in-github",
        "colab_type": "text"
      },
      "source": [
        "<a href=\"https://colab.research.google.com/github/acag0212/smart-on-fhir-tutorial/blob/gh-pages/Miniproject4.ipynb\" target=\"_parent\"><img src=\"https://colab.research.google.com/assets/colab-badge.svg\" alt=\"Open In Colab\"/></a>"
      ]
    },
    {
      "cell_type": "code",
      "metadata": {
        "id": "5ue7Ebsq5vaw"
      },
      "source": [
        "import pandas as pd\n",
        "import matplotlib.pyplot as plt\n",
        "import numpy as np\n",
        "from sklearn.preprocessing import PolynomialFeatures\n",
        "from sklearn.linear_model import LinearRegression\n",
        "from sklearn.metrics import mean_squared_error, r2_score\n",
        "from sklearn.pipeline import Pipeline\n",
        "from sklearn import datasets, linear_model"
      ],
      "execution_count": 31,
      "outputs": []
    },
    {
      "cell_type": "markdown",
      "metadata": {
        "id": "XTHiJa5n-3nx"
      },
      "source": [
        "Loading CSV data to my notebook. This is STD data in California"
      ]
    },
    {
      "cell_type": "code",
      "metadata": {
        "id": "jcTe5kpG6Gud"
      },
      "source": [
        "std_california = pd.read_csv('/content/stds-by-disease-county-year-and-sex.csv', header=0)"
      ],
      "execution_count": 20,
      "outputs": []
    },
    {
      "cell_type": "markdown",
      "metadata": {
        "id": "UrGS1hiE_VNT"
      },
      "source": [
        "Display the first 15 rows."
      ]
    },
    {
      "cell_type": "code",
      "metadata": {
        "colab": {
          "base_uri": "https://localhost:8080/",
          "height": 514
        },
        "id": "r1Jhg5uz_Zq3",
        "outputId": "70fe5afd-6f5a-4d5d-b331-19601feef621"
      },
      "source": [
        "std_california.head(15)"
      ],
      "execution_count": 21,
      "outputs": [
        {
          "output_type": "execute_result",
          "data": {
            "text/html": [
              "<div>\n",
              "<style scoped>\n",
              "    .dataframe tbody tr th:only-of-type {\n",
              "        vertical-align: middle;\n",
              "    }\n",
              "\n",
              "    .dataframe tbody tr th {\n",
              "        vertical-align: top;\n",
              "    }\n",
              "\n",
              "    .dataframe thead th {\n",
              "        text-align: right;\n",
              "    }\n",
              "</style>\n",
              "<table border=\"1\" class=\"dataframe\">\n",
              "  <thead>\n",
              "    <tr style=\"text-align: right;\">\n",
              "      <th></th>\n",
              "      <th>Disease</th>\n",
              "      <th>County</th>\n",
              "      <th>Year</th>\n",
              "      <th>Sex</th>\n",
              "      <th>Cases</th>\n",
              "      <th>Population</th>\n",
              "      <th>Rate</th>\n",
              "      <th>Lower 95% CI</th>\n",
              "      <th>Upper 95% CI</th>\n",
              "      <th>Annotation Code</th>\n",
              "    </tr>\n",
              "  </thead>\n",
              "  <tbody>\n",
              "    <tr>\n",
              "      <th>0</th>\n",
              "      <td>Chlamydia</td>\n",
              "      <td>California</td>\n",
              "      <td>2001</td>\n",
              "      <td>Female</td>\n",
              "      <td>75941.0</td>\n",
              "      <td>17339700</td>\n",
              "      <td>438.0</td>\n",
              "      <td>434.9</td>\n",
              "      <td>441.1</td>\n",
              "      <td>NaN</td>\n",
              "    </tr>\n",
              "    <tr>\n",
              "      <th>1</th>\n",
              "      <td>Chlamydia</td>\n",
              "      <td>California</td>\n",
              "      <td>2001</td>\n",
              "      <td>Male</td>\n",
              "      <td>24885.0</td>\n",
              "      <td>17173042</td>\n",
              "      <td>144.9</td>\n",
              "      <td>143.1</td>\n",
              "      <td>146.7</td>\n",
              "      <td>NaN</td>\n",
              "    </tr>\n",
              "    <tr>\n",
              "      <th>2</th>\n",
              "      <td>Chlamydia</td>\n",
              "      <td>California</td>\n",
              "      <td>2001</td>\n",
              "      <td>Total</td>\n",
              "      <td>101590.0</td>\n",
              "      <td>34512742</td>\n",
              "      <td>294.4</td>\n",
              "      <td>292.6</td>\n",
              "      <td>296.2</td>\n",
              "      <td>NaN</td>\n",
              "    </tr>\n",
              "    <tr>\n",
              "      <th>3</th>\n",
              "      <td>Chlamydia</td>\n",
              "      <td>California</td>\n",
              "      <td>2002</td>\n",
              "      <td>Female</td>\n",
              "      <td>81583.0</td>\n",
              "      <td>17554666</td>\n",
              "      <td>464.7</td>\n",
              "      <td>461.6</td>\n",
              "      <td>467.9</td>\n",
              "      <td>NaN</td>\n",
              "    </tr>\n",
              "    <tr>\n",
              "      <th>4</th>\n",
              "      <td>Chlamydia</td>\n",
              "      <td>California</td>\n",
              "      <td>2002</td>\n",
              "      <td>Male</td>\n",
              "      <td>28521.0</td>\n",
              "      <td>17383624</td>\n",
              "      <td>164.1</td>\n",
              "      <td>162.2</td>\n",
              "      <td>166.0</td>\n",
              "      <td>NaN</td>\n",
              "    </tr>\n",
              "    <tr>\n",
              "      <th>5</th>\n",
              "      <td>Chlamydia</td>\n",
              "      <td>California</td>\n",
              "      <td>2002</td>\n",
              "      <td>Total</td>\n",
              "      <td>110759.0</td>\n",
              "      <td>34938290</td>\n",
              "      <td>317.0</td>\n",
              "      <td>315.2</td>\n",
              "      <td>318.9</td>\n",
              "      <td>NaN</td>\n",
              "    </tr>\n",
              "    <tr>\n",
              "      <th>6</th>\n",
              "      <td>Chlamydia</td>\n",
              "      <td>California</td>\n",
              "      <td>2003</td>\n",
              "      <td>Female</td>\n",
              "      <td>85153.0</td>\n",
              "      <td>17782868</td>\n",
              "      <td>478.8</td>\n",
              "      <td>475.6</td>\n",
              "      <td>482.1</td>\n",
              "      <td>NaN</td>\n",
              "    </tr>\n",
              "    <tr>\n",
              "      <th>7</th>\n",
              "      <td>Chlamydia</td>\n",
              "      <td>California</td>\n",
              "      <td>2003</td>\n",
              "      <td>Male</td>\n",
              "      <td>31007.0</td>\n",
              "      <td>17606060</td>\n",
              "      <td>176.1</td>\n",
              "      <td>174.2</td>\n",
              "      <td>178.1</td>\n",
              "      <td>NaN</td>\n",
              "    </tr>\n",
              "    <tr>\n",
              "      <th>8</th>\n",
              "      <td>Chlamydia</td>\n",
              "      <td>California</td>\n",
              "      <td>2003</td>\n",
              "      <td>Total</td>\n",
              "      <td>116385.0</td>\n",
              "      <td>35388928</td>\n",
              "      <td>328.9</td>\n",
              "      <td>327.0</td>\n",
              "      <td>330.8</td>\n",
              "      <td>NaN</td>\n",
              "    </tr>\n",
              "    <tr>\n",
              "      <th>9</th>\n",
              "      <td>Chlamydia</td>\n",
              "      <td>California</td>\n",
              "      <td>2004</td>\n",
              "      <td>Female</td>\n",
              "      <td>89438.0</td>\n",
              "      <td>17968347</td>\n",
              "      <td>497.8</td>\n",
              "      <td>494.5</td>\n",
              "      <td>501.0</td>\n",
              "      <td>NaN</td>\n",
              "    </tr>\n",
              "    <tr>\n",
              "      <th>10</th>\n",
              "      <td>Chlamydia</td>\n",
              "      <td>California</td>\n",
              "      <td>2004</td>\n",
              "      <td>Male</td>\n",
              "      <td>33652.0</td>\n",
              "      <td>17784418</td>\n",
              "      <td>189.2</td>\n",
              "      <td>187.2</td>\n",
              "      <td>191.3</td>\n",
              "      <td>NaN</td>\n",
              "    </tr>\n",
              "    <tr>\n",
              "      <th>11</th>\n",
              "      <td>Chlamydia</td>\n",
              "      <td>California</td>\n",
              "      <td>2004</td>\n",
              "      <td>Total</td>\n",
              "      <td>123439.0</td>\n",
              "      <td>35752765</td>\n",
              "      <td>345.3</td>\n",
              "      <td>343.3</td>\n",
              "      <td>347.2</td>\n",
              "      <td>NaN</td>\n",
              "    </tr>\n",
              "    <tr>\n",
              "      <th>12</th>\n",
              "      <td>Chlamydia</td>\n",
              "      <td>California</td>\n",
              "      <td>2005</td>\n",
              "      <td>Female</td>\n",
              "      <td>92362.0</td>\n",
              "      <td>18087299</td>\n",
              "      <td>510.6</td>\n",
              "      <td>507.4</td>\n",
              "      <td>513.9</td>\n",
              "      <td>NaN</td>\n",
              "    </tr>\n",
              "    <tr>\n",
              "      <th>13</th>\n",
              "      <td>Chlamydia</td>\n",
              "      <td>California</td>\n",
              "      <td>2005</td>\n",
              "      <td>Male</td>\n",
              "      <td>36227.0</td>\n",
              "      <td>17898283</td>\n",
              "      <td>202.4</td>\n",
              "      <td>200.3</td>\n",
              "      <td>204.5</td>\n",
              "      <td>NaN</td>\n",
              "    </tr>\n",
              "    <tr>\n",
              "      <th>14</th>\n",
              "      <td>Chlamydia</td>\n",
              "      <td>California</td>\n",
              "      <td>2005</td>\n",
              "      <td>Total</td>\n",
              "      <td>129177.0</td>\n",
              "      <td>35985582</td>\n",
              "      <td>359.0</td>\n",
              "      <td>357.0</td>\n",
              "      <td>360.9</td>\n",
              "      <td>NaN</td>\n",
              "    </tr>\n",
              "  </tbody>\n",
              "</table>\n",
              "</div>"
            ],
            "text/plain": [
              "      Disease      County  Year  ... Lower 95% CI  Upper 95% CI  Annotation Code\n",
              "0   Chlamydia  California  2001  ...        434.9         441.1              NaN\n",
              "1   Chlamydia  California  2001  ...        143.1         146.7              NaN\n",
              "2   Chlamydia  California  2001  ...        292.6         296.2              NaN\n",
              "3   Chlamydia  California  2002  ...        461.6         467.9              NaN\n",
              "4   Chlamydia  California  2002  ...        162.2         166.0              NaN\n",
              "5   Chlamydia  California  2002  ...        315.2         318.9              NaN\n",
              "6   Chlamydia  California  2003  ...        475.6         482.1              NaN\n",
              "7   Chlamydia  California  2003  ...        174.2         178.1              NaN\n",
              "8   Chlamydia  California  2003  ...        327.0         330.8              NaN\n",
              "9   Chlamydia  California  2004  ...        494.5         501.0              NaN\n",
              "10  Chlamydia  California  2004  ...        187.2         191.3              NaN\n",
              "11  Chlamydia  California  2004  ...        343.3         347.2              NaN\n",
              "12  Chlamydia  California  2005  ...        507.4         513.9              NaN\n",
              "13  Chlamydia  California  2005  ...        200.3         204.5              NaN\n",
              "14  Chlamydia  California  2005  ...        357.0         360.9              NaN\n",
              "\n",
              "[15 rows x 10 columns]"
            ]
          },
          "metadata": {
            "tags": []
          },
          "execution_count": 21
        }
      ]
    },
    {
      "cell_type": "markdown",
      "metadata": {
        "id": "FC1VioXG_zPH"
      },
      "source": [
        "Filter data for only Male Cases."
      ]
    },
    {
      "cell_type": "code",
      "metadata": {
        "id": "s2EDR8A9_8B5"
      },
      "source": [
        "male_groups = std_california[std_california['Sex'] == 'Male']"
      ],
      "execution_count": 22,
      "outputs": []
    },
    {
      "cell_type": "markdown",
      "metadata": {
        "id": "lqfmKJQ6AZ8M"
      },
      "source": [
        "Filter the data frame for only Santa Clara County"
      ]
    },
    {
      "cell_type": "code",
      "metadata": {
        "id": "-ETVZvqrAZbg"
      },
      "source": [
        "male_groups_santaclara = male_groups[male_groups['County'] == 'Santa Clara']"
      ],
      "execution_count": 23,
      "outputs": []
    },
    {
      "cell_type": "markdown",
      "metadata": {
        "id": "O1UweuO4DfEo"
      },
      "source": [
        "Filter the data frame for only Chlamydia\n"
      ]
    },
    {
      "cell_type": "code",
      "metadata": {
        "id": "Cf7rRq29BhNn"
      },
      "source": [
        "male_groups_santaclara_chl = male_groups_santaclara[male_groups_santaclara['Disease']=='Chlamydia']"
      ],
      "execution_count": 24,
      "outputs": []
    },
    {
      "cell_type": "markdown",
      "metadata": {
        "id": "D_PqBEyIB-7M"
      },
      "source": [
        "Plotting male in Santa Clara Chlamydia rate change per year"
      ]
    },
    {
      "cell_type": "code",
      "metadata": {
        "colab": {
          "base_uri": "https://localhost:8080/",
          "height": 295
        },
        "id": "BeGmxVQ4CNBf",
        "outputId": "069c1a36-fdd3-460b-8e56-790f44cf2150"
      },
      "source": [
        "plt.bar(male_groups_santaclara_chl['Year'],male_groups_santaclara_chl['Rate'], color='blue')\n",
        "plt.xlabel('Year')\n",
        "plt.ylabel('Rate')\n",
        "plt.title('Male Chlamydia Rate in Santa Clara Change in Year')\n",
        "plt.show()"
      ],
      "execution_count": 25,
      "outputs": [
        {
          "output_type": "display_data",
          "data": {
            "image/png": "[encoded data removed]",
            "text/plain": [
              "<Figure size 432x288 with 1 Axes>"
            ]
          },
          "metadata": {
            "tags": [],
            "needs_background": "light"
          }
        }
      ]
    },
    {
      "cell_type": "markdown",
      "metadata": {
        "id": "ykGLhqD-egZ0"
      },
      "source": [
        "Storing Year Data into chl_X variable with np.array"
      ]
    },
    {
      "cell_type": "code",
      "metadata": {
        "id": "Drw3AGF7LE9k"
      },
      "source": [
        "chl_X = np.array(male_groups_santaclara_chl['Year'])"
      ],
      "execution_count": 99,
      "outputs": []
    },
    {
      "cell_type": "markdown",
      "metadata": {
        "id": "7HoMHcYgeoFz"
      },
      "source": [
        "Reshaping to 2-Dimension data from 1-Dimension"
      ]
    },
    {
      "cell_type": "code",
      "metadata": {
        "id": "WI4huh3nYv-w"
      },
      "source": [
        "chl_X = chl_X.reshape(-1,1)"
      ],
      "execution_count": 101,
      "outputs": []
    },
    {
      "cell_type": "markdown",
      "metadata": {
        "id": "0FwD5q77et0r"
      },
      "source": [
        "Storing Rate Data into chl_Y variable with np.array"
      ]
    },
    {
      "cell_type": "code",
      "metadata": {
        "id": "rMLdFwNRO7zC"
      },
      "source": [
        "chl_Y = np.array(male_groups_santaclara_chl['Rate'])"
      ],
      "execution_count": 102,
      "outputs": []
    },
    {
      "cell_type": "markdown",
      "metadata": {
        "id": "rKKvIQLeey2j"
      },
      "source": [
        "Reshaping to 2-Dimension data from 1-Dimension"
      ]
    },
    {
      "cell_type": "code",
      "metadata": {
        "id": "G4qiC4TKZW-6"
      },
      "source": [
        "chl_Y = chl_Y.reshape(-1,1)"
      ],
      "execution_count": 104,
      "outputs": []
    },
    {
      "cell_type": "markdown",
      "metadata": {
        "id": "woE5vn0We3In"
      },
      "source": [
        "Separating train data and test data"
      ]
    },
    {
      "cell_type": "code",
      "metadata": {
        "id": "DPP7jwoSOP4H"
      },
      "source": [
        "chl_X_train = chl_X[:-9]\n",
        "chl_X_test = chl_X[-9:]"
      ],
      "execution_count": 140,
      "outputs": []
    },
    {
      "cell_type": "code",
      "metadata": {
        "colab": {
          "base_uri": "https://localhost:8080/",
          "height": 0
        },
        "id": "NFbuauTlfTET",
        "outputId": "336cd358-d0a8-4dc7-9b3f-9fbd928c691e"
      },
      "source": [
        "print(chl_X_train)"
      ],
      "execution_count": 141,
      "outputs": [
        {
          "output_type": "stream",
          "text": [
            "[[2001]\n",
            " [2002]\n",
            " [2003]\n",
            " [2004]\n",
            " [2005]\n",
            " [2006]\n",
            " [2007]\n",
            " [2008]\n",
            " [2009]]\n"
          ],
          "name": "stdout"
        }
      ]
    },
    {
      "cell_type": "markdown",
      "metadata": {
        "id": "htjQ11BZe724"
      },
      "source": [
        "Separating train data and test data"
      ]
    },
    {
      "cell_type": "code",
      "metadata": {
        "id": "rSsC0ucBO_yv"
      },
      "source": [
        "chl_Y_train = chl_Y[:-9]\n",
        "chl_Y_test = chl_Y[-9:]"
      ],
      "execution_count": 142,
      "outputs": []
    },
    {
      "cell_type": "code",
      "metadata": {
        "colab": {
          "base_uri": "https://localhost:8080/",
          "height": 0
        },
        "id": "yAsMwLwMgFkC",
        "outputId": "16ce896e-faac-4387-9556-5e1cfb941088"
      },
      "source": [
        "print(chl_Y_test)"
      ],
      "execution_count": 167,
      "outputs": [
        {
          "output_type": "stream",
          "text": [
            "[[184.9]\n",
            " [174.2]\n",
            " [177.5]\n",
            " [199.4]\n",
            " [219.8]\n",
            " [262.3]\n",
            " [272.5]\n",
            " [309.5]\n",
            " [336.1]]\n"
          ],
          "name": "stdout"
        }
      ]
    },
    {
      "cell_type": "markdown",
      "metadata": {
        "id": "kki6plq-e-k8"
      },
      "source": [
        "making regression model with linearregression"
      ]
    },
    {
      "cell_type": "code",
      "metadata": {
        "id": "cniIg3o-PJ-N"
      },
      "source": [
        "regr = linear_model.LinearRegression()"
      ],
      "execution_count": 168,
      "outputs": []
    },
    {
      "cell_type": "markdown",
      "metadata": {
        "id": "DuFUP2YEfCjG"
      },
      "source": [
        "Fitting the regression data with recent 9 years data"
      ]
    },
    {
      "cell_type": "code",
      "metadata": {
        "colab": {
          "base_uri": "https://localhost:8080/",
          "height": 0
        },
        "id": "uCP7cfniaV_e",
        "outputId": "436e83bb-276b-4c35-c39a-d222ee0291a5"
      },
      "source": [
        "regr.fit(chl_X_test, chl_Y_test)"
      ],
      "execution_count": 169,
      "outputs": [
        {
          "output_type": "execute_result",
          "data": {
            "text/plain": [
              "LinearRegression(copy_X=True, fit_intercept=True, n_jobs=None, normalize=False)"
            ]
          },
          "metadata": {
            "tags": []
          },
          "execution_count": 169
        }
      ]
    },
    {
      "cell_type": "markdown",
      "metadata": {
        "id": "OX4auxGghOJk"
      },
      "source": [
        "Making prediction using the testing set"
      ]
    },
    {
      "cell_type": "code",
      "metadata": {
        "id": "D2nGI8ZZaevi"
      },
      "source": [
        "chl_Y_pred = regr.predict(chl_X_test)"
      ],
      "execution_count": 174,
      "outputs": []
    },
    {
      "cell_type": "markdown",
      "metadata": {
        "id": "F-CaXmOchoiL"
      },
      "source": [
        "The coefficients print"
      ]
    },
    {
      "cell_type": "code",
      "metadata": {
        "colab": {
          "base_uri": "https://localhost:8080/",
          "height": 0
        },
        "id": "OL2lQVoEalA7",
        "outputId": "cd0e2487-4c84-4eef-c49c-ea62398e7b68"
      },
      "source": [
        "print('Coefficients: \\n', regr.coef_)"
      ],
      "execution_count": 171,
      "outputs": [
        {
          "output_type": "stream",
          "text": [
            "Coefficients: \n",
            " [[21.06]]\n"
          ],
          "name": "stdout"
        }
      ]
    },
    {
      "cell_type": "markdown",
      "metadata": {
        "id": "MeYjb6XMhrSi"
      },
      "source": [
        "The mean squared error"
      ]
    },
    {
      "cell_type": "code",
      "metadata": {
        "colab": {
          "base_uri": "https://localhost:8080/",
          "height": 0
        },
        "id": "26PHDLRSarkv",
        "outputId": "94ed811f-9c26-4e87-ed9d-93e5bb6e16bd"
      },
      "source": [
        "print('Mean squared error: %.2f'\n",
        "        % mean_squared_error(chl_Y_test, chl_Y_pred))"
      ],
      "execution_count": 172,
      "outputs": [
        {
          "output_type": "stream",
          "text": [
            "Mean squared error: 252.55\n"
          ],
          "name": "stdout"
        }
      ]
    },
    {
      "cell_type": "markdown",
      "metadata": {
        "id": "5FVUE9Jehuld"
      },
      "source": [
        "The coefficient of determination: 1 is perfect prediction"
      ]
    },
    {
      "cell_type": "code",
      "metadata": {
        "colab": {
          "base_uri": "https://localhost:8080/",
          "height": 0
        },
        "id": "qbWC3HaQa8KC",
        "outputId": "2ca8582a-8a4a-4e00-8db1-df2f7263b6eb"
      },
      "source": [
        "print('Coefficient of determination: %.2f'\n",
        "      % r2_score(chl_Y_test, chl_Y_pred))"
      ],
      "execution_count": 173,
      "outputs": [
        {
          "output_type": "stream",
          "text": [
            "Coefficient of determination: 0.92\n"
          ],
          "name": "stdout"
        }
      ]
    },
    {
      "cell_type": "markdown",
      "metadata": {
        "id": "2wCjfzYmhyPT"
      },
      "source": [
        "Plot Outputs"
      ]
    },
    {
      "cell_type": "code",
      "metadata": {
        "colab": {
          "base_uri": "https://localhost:8080/",
          "height": 295
        },
        "id": "ShTxzvYsbIbW",
        "outputId": "6906419b-f090-423b-db25-292c1471c0f4"
      },
      "source": [
        "plt.scatter(chl_X_test, chl_Y_test, color='black')\n",
        "plt.plot(chl_X_test, chl_Y_pred, color='blue', linewidth=3)\n",
        "\n",
        "plt.xticks((chl_X_test))\n",
        "plt.yticks((chl_Y_test))\n",
        "plt.xlabel('Year')\n",
        "plt.ylabel('Rate')\n",
        "plt.title('Male Chlamydia Rate in Santa Clara Change in Year')\n",
        "\n",
        "plt.show()"
      ],
      "execution_count": 179,
      "outputs": [
        {
          "output_type": "display_data",
          "data": {
            "image/png": "[encoded data removed]",
            "text/plain": [
              "<Figure size 432x288 with 1 Axes>"
            ]
          },
          "metadata": {
            "tags": [],
            "needs_background": "light"
          }
        }
      ]
    }
  ]
}